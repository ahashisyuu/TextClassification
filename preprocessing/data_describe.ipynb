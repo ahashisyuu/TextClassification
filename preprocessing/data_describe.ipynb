{
 "cells": [
  {
   "cell_type": "code",
   "execution_count": 1,
   "metadata": {},
   "outputs": [],
   "source": [
    "import pandas as pd\n",
    "import os\n",
    "\n",
    "path = 'E:/TextClassification/data_raw'\n",
    "name = 'train_set.csv'\n",
    "train_data = pd.read_csv(os.path.join(path, name), header=0)\n",
    "test_data = pd.read_csv(os.path.join(path, 'test_set.csv'), header=0)"
   ]
  },
  {
   "cell_type": "code",
   "execution_count": 2,
   "metadata": {},
   "outputs": [
    {
     "data": {
      "text/html": [
       "<div>\n",
       "<style scoped>\n",
       "    .dataframe tbody tr th:only-of-type {\n",
       "        vertical-align: middle;\n",
       "    }\n",
       "\n",
       "    .dataframe tbody tr th {\n",
       "        vertical-align: top;\n",
       "    }\n",
       "\n",
       "    .dataframe thead th {\n",
       "        text-align: right;\n",
       "    }\n",
       "</style>\n",
       "<table border=\"1\" class=\"dataframe\">\n",
       "  <thead>\n",
       "    <tr style=\"text-align: right;\">\n",
       "      <th></th>\n",
       "      <th>id</th>\n",
       "      <th>article</th>\n",
       "      <th>word_seg</th>\n",
       "      <th>class</th>\n",
       "    </tr>\n",
       "  </thead>\n",
       "  <tbody>\n",
       "    <tr>\n",
       "      <th>0</th>\n",
       "      <td>0</td>\n",
       "      <td>7368 1252069 365865 755561 1044285 129532 1053...</td>\n",
       "      <td>816903 597526 520477 1179558 1033823 758724 63...</td>\n",
       "      <td>14</td>\n",
       "    </tr>\n",
       "    <tr>\n",
       "      <th>1</th>\n",
       "      <td>1</td>\n",
       "      <td>581131 165432 7368 957317 1197553 570900 33659...</td>\n",
       "      <td>90540 816903 441039 816903 569138 816903 10343...</td>\n",
       "      <td>3</td>\n",
       "    </tr>\n",
       "    <tr>\n",
       "      <th>2</th>\n",
       "      <td>2</td>\n",
       "      <td>7368 87936 40494 490286 856005 641588 145611 1...</td>\n",
       "      <td>816903 1012629 957974 1033823 328210 947200 65...</td>\n",
       "      <td>12</td>\n",
       "    </tr>\n",
       "    <tr>\n",
       "      <th>3</th>\n",
       "      <td>3</td>\n",
       "      <td>299237 760651 299237 887082 159592 556634 7489...</td>\n",
       "      <td>563568 1239563 680125 780219 782805 1033823 19...</td>\n",
       "      <td>13</td>\n",
       "    </tr>\n",
       "    <tr>\n",
       "      <th>4</th>\n",
       "      <td>4</td>\n",
       "      <td>7368 7368 7368 865510 7368 396966 995243 37685...</td>\n",
       "      <td>816903 816903 816903 139132 816903 312320 1103...</td>\n",
       "      <td>12</td>\n",
       "    </tr>\n",
       "  </tbody>\n",
       "</table>\n",
       "</div>"
      ],
      "text/plain": [
       "   id                                            article  \\\n",
       "0   0  7368 1252069 365865 755561 1044285 129532 1053...   \n",
       "1   1  581131 165432 7368 957317 1197553 570900 33659...   \n",
       "2   2  7368 87936 40494 490286 856005 641588 145611 1...   \n",
       "3   3  299237 760651 299237 887082 159592 556634 7489...   \n",
       "4   4  7368 7368 7368 865510 7368 396966 995243 37685...   \n",
       "\n",
       "                                            word_seg  class  \n",
       "0  816903 597526 520477 1179558 1033823 758724 63...     14  \n",
       "1  90540 816903 441039 816903 569138 816903 10343...      3  \n",
       "2  816903 1012629 957974 1033823 328210 947200 65...     12  \n",
       "3  563568 1239563 680125 780219 782805 1033823 19...     13  \n",
       "4  816903 816903 816903 139132 816903 312320 1103...     12  "
      ]
     },
     "execution_count": 2,
     "metadata": {},
     "output_type": "execute_result"
    }
   ],
   "source": [
    "train_data.head()"
   ]
  },
  {
   "cell_type": "code",
   "execution_count": 3,
   "metadata": {},
   "outputs": [
    {
     "data": {
      "text/html": [
       "<div>\n",
       "<style scoped>\n",
       "    .dataframe tbody tr th:only-of-type {\n",
       "        vertical-align: middle;\n",
       "    }\n",
       "\n",
       "    .dataframe tbody tr th {\n",
       "        vertical-align: top;\n",
       "    }\n",
       "\n",
       "    .dataframe thead th {\n",
       "        text-align: right;\n",
       "    }\n",
       "</style>\n",
       "<table border=\"1\" class=\"dataframe\">\n",
       "  <thead>\n",
       "    <tr style=\"text-align: right;\">\n",
       "      <th></th>\n",
       "      <th>id</th>\n",
       "      <th>article</th>\n",
       "      <th>word_seg</th>\n",
       "    </tr>\n",
       "  </thead>\n",
       "  <tbody>\n",
       "    <tr>\n",
       "      <th>0</th>\n",
       "      <td>0</td>\n",
       "      <td>7368 146447 316564 42610 55736 297797 93042 53...</td>\n",
       "      <td>816903 565958 726082 764656 335008 75094 20282...</td>\n",
       "    </tr>\n",
       "    <tr>\n",
       "      <th>1</th>\n",
       "      <td>1</td>\n",
       "      <td>985531 473628 1044285 1121849 206763 462208 11...</td>\n",
       "      <td>729468 520477 529032 101368 335130 520477 1113...</td>\n",
       "    </tr>\n",
       "    <tr>\n",
       "      <th>2</th>\n",
       "      <td>2</td>\n",
       "      <td>7368 7368 7368 7368 7368 7368 7368 7368 7368 7...</td>\n",
       "      <td>816903 816903 816903 816903 816903 816903 8169...</td>\n",
       "    </tr>\n",
       "    <tr>\n",
       "      <th>3</th>\n",
       "      <td>3</td>\n",
       "      <td>529819 1226459 856005 1177293 663773 272235 93...</td>\n",
       "      <td>231664 1033823 524850 330478 507199 520477 618...</td>\n",
       "    </tr>\n",
       "    <tr>\n",
       "      <th>4</th>\n",
       "      <td>4</td>\n",
       "      <td>42610 1252069 1077049 955883 1125260 1044285 2...</td>\n",
       "      <td>545370 379223 162767 520477 1194630 1197475 11...</td>\n",
       "    </tr>\n",
       "  </tbody>\n",
       "</table>\n",
       "</div>"
      ],
      "text/plain": [
       "   id                                            article  \\\n",
       "0   0  7368 146447 316564 42610 55736 297797 93042 53...   \n",
       "1   1  985531 473628 1044285 1121849 206763 462208 11...   \n",
       "2   2  7368 7368 7368 7368 7368 7368 7368 7368 7368 7...   \n",
       "3   3  529819 1226459 856005 1177293 663773 272235 93...   \n",
       "4   4  42610 1252069 1077049 955883 1125260 1044285 2...   \n",
       "\n",
       "                                            word_seg  \n",
       "0  816903 565958 726082 764656 335008 75094 20282...  \n",
       "1  729468 520477 529032 101368 335130 520477 1113...  \n",
       "2  816903 816903 816903 816903 816903 816903 8169...  \n",
       "3  231664 1033823 524850 330478 507199 520477 618...  \n",
       "4  545370 379223 162767 520477 1194630 1197475 11...  "
      ]
     },
     "execution_count": 3,
     "metadata": {},
     "output_type": "execute_result"
    }
   ],
   "source": [
    "test_data.head()"
   ]
  },
  {
   "cell_type": "code",
   "execution_count": 4,
   "metadata": {},
   "outputs": [],
   "source": [
    "train_data = train_data[['article', 'word_seg', 'class']]\n",
    "test_data = test_data[['article', 'word_seg']]"
   ]
  },
  {
   "cell_type": "code",
   "execution_count": 5,
   "metadata": {},
   "outputs": [],
   "source": [
    "train_data['article'] = train_data['article'].apply(lambda x: x.split())\n",
    "train_data['word_seg'] = train_data['word_seg'].apply(lambda x: x.split())\n",
    "           \n",
    "test_data['article'] = test_data['article'].apply(lambda x: x.split())\n",
    "test_data['word_seg'] = test_data['word_seg'].apply(lambda x: x.split())\n"
   ]
  },
  {
   "cell_type": "code",
   "execution_count": 6,
   "metadata": {},
   "outputs": [
    {
     "data": {
      "text/html": [
       "<div>\n",
       "<style scoped>\n",
       "    .dataframe tbody tr th:only-of-type {\n",
       "        vertical-align: middle;\n",
       "    }\n",
       "\n",
       "    .dataframe tbody tr th {\n",
       "        vertical-align: top;\n",
       "    }\n",
       "\n",
       "    .dataframe thead th {\n",
       "        text-align: right;\n",
       "    }\n",
       "</style>\n",
       "<table border=\"1\" class=\"dataframe\">\n",
       "  <thead>\n",
       "    <tr style=\"text-align: right;\">\n",
       "      <th></th>\n",
       "      <th>article</th>\n",
       "      <th>word_seg</th>\n",
       "      <th>class</th>\n",
       "    </tr>\n",
       "  </thead>\n",
       "  <tbody>\n",
       "    <tr>\n",
       "      <th>0</th>\n",
       "      <td>[7368, 1252069, 365865, 755561, 1044285, 12953...</td>\n",
       "      <td>[816903, 597526, 520477, 1179558, 1033823, 758...</td>\n",
       "      <td>14</td>\n",
       "    </tr>\n",
       "    <tr>\n",
       "      <th>1</th>\n",
       "      <td>[581131, 165432, 7368, 957317, 1197553, 570900...</td>\n",
       "      <td>[90540, 816903, 441039, 816903, 569138, 816903...</td>\n",
       "      <td>3</td>\n",
       "    </tr>\n",
       "    <tr>\n",
       "      <th>2</th>\n",
       "      <td>[7368, 87936, 40494, 490286, 856005, 641588, 1...</td>\n",
       "      <td>[816903, 1012629, 957974, 1033823, 328210, 947...</td>\n",
       "      <td>12</td>\n",
       "    </tr>\n",
       "    <tr>\n",
       "      <th>3</th>\n",
       "      <td>[299237, 760651, 299237, 887082, 159592, 55663...</td>\n",
       "      <td>[563568, 1239563, 680125, 780219, 782805, 1033...</td>\n",
       "      <td>13</td>\n",
       "    </tr>\n",
       "    <tr>\n",
       "      <th>4</th>\n",
       "      <td>[7368, 7368, 7368, 865510, 7368, 396966, 99524...</td>\n",
       "      <td>[816903, 816903, 816903, 139132, 816903, 31232...</td>\n",
       "      <td>12</td>\n",
       "    </tr>\n",
       "  </tbody>\n",
       "</table>\n",
       "</div>"
      ],
      "text/plain": [
       "                                             article  \\\n",
       "0  [7368, 1252069, 365865, 755561, 1044285, 12953...   \n",
       "1  [581131, 165432, 7368, 957317, 1197553, 570900...   \n",
       "2  [7368, 87936, 40494, 490286, 856005, 641588, 1...   \n",
       "3  [299237, 760651, 299237, 887082, 159592, 55663...   \n",
       "4  [7368, 7368, 7368, 865510, 7368, 396966, 99524...   \n",
       "\n",
       "                                            word_seg  class  \n",
       "0  [816903, 597526, 520477, 1179558, 1033823, 758...     14  \n",
       "1  [90540, 816903, 441039, 816903, 569138, 816903...      3  \n",
       "2  [816903, 1012629, 957974, 1033823, 328210, 947...     12  \n",
       "3  [563568, 1239563, 680125, 780219, 782805, 1033...     13  \n",
       "4  [816903, 816903, 816903, 139132, 816903, 31232...     12  "
      ]
     },
     "execution_count": 6,
     "metadata": {},
     "output_type": "execute_result"
    }
   ],
   "source": [
    "train_data.head()"
   ]
  },
  {
   "cell_type": "code",
   "execution_count": 7,
   "metadata": {},
   "outputs": [
    {
     "data": {
      "text/html": [
       "<div>\n",
       "<style scoped>\n",
       "    .dataframe tbody tr th:only-of-type {\n",
       "        vertical-align: middle;\n",
       "    }\n",
       "\n",
       "    .dataframe tbody tr th {\n",
       "        vertical-align: top;\n",
       "    }\n",
       "\n",
       "    .dataframe thead th {\n",
       "        text-align: right;\n",
       "    }\n",
       "</style>\n",
       "<table border=\"1\" class=\"dataframe\">\n",
       "  <thead>\n",
       "    <tr style=\"text-align: right;\">\n",
       "      <th></th>\n",
       "      <th>article</th>\n",
       "      <th>word_seg</th>\n",
       "    </tr>\n",
       "  </thead>\n",
       "  <tbody>\n",
       "    <tr>\n",
       "      <th>0</th>\n",
       "      <td>[7368, 146447, 316564, 42610, 55736, 297797, 9...</td>\n",
       "      <td>[816903, 565958, 726082, 764656, 335008, 75094...</td>\n",
       "    </tr>\n",
       "    <tr>\n",
       "      <th>1</th>\n",
       "      <td>[985531, 473628, 1044285, 1121849, 206763, 462...</td>\n",
       "      <td>[729468, 520477, 529032, 101368, 335130, 52047...</td>\n",
       "    </tr>\n",
       "    <tr>\n",
       "      <th>2</th>\n",
       "      <td>[7368, 7368, 7368, 7368, 7368, 7368, 7368, 736...</td>\n",
       "      <td>[816903, 816903, 816903, 816903, 816903, 81690...</td>\n",
       "    </tr>\n",
       "    <tr>\n",
       "      <th>3</th>\n",
       "      <td>[529819, 1226459, 856005, 1177293, 663773, 272...</td>\n",
       "      <td>[231664, 1033823, 524850, 330478, 507199, 5204...</td>\n",
       "    </tr>\n",
       "    <tr>\n",
       "      <th>4</th>\n",
       "      <td>[42610, 1252069, 1077049, 955883, 1125260, 104...</td>\n",
       "      <td>[545370, 379223, 162767, 520477, 1194630, 1197...</td>\n",
       "    </tr>\n",
       "  </tbody>\n",
       "</table>\n",
       "</div>"
      ],
      "text/plain": [
       "                                             article  \\\n",
       "0  [7368, 146447, 316564, 42610, 55736, 297797, 9...   \n",
       "1  [985531, 473628, 1044285, 1121849, 206763, 462...   \n",
       "2  [7368, 7368, 7368, 7368, 7368, 7368, 7368, 736...   \n",
       "3  [529819, 1226459, 856005, 1177293, 663773, 272...   \n",
       "4  [42610, 1252069, 1077049, 955883, 1125260, 104...   \n",
       "\n",
       "                                            word_seg  \n",
       "0  [816903, 565958, 726082, 764656, 335008, 75094...  \n",
       "1  [729468, 520477, 529032, 101368, 335130, 52047...  \n",
       "2  [816903, 816903, 816903, 816903, 816903, 81690...  \n",
       "3  [231664, 1033823, 524850, 330478, 507199, 5204...  \n",
       "4  [545370, 379223, 162767, 520477, 1194630, 1197...  "
      ]
     },
     "execution_count": 7,
     "metadata": {},
     "output_type": "execute_result"
    }
   ],
   "source": [
    "test_data.head()"
   ]
  },
  {
   "cell_type": "code",
   "execution_count": 8,
   "metadata": {},
   "outputs": [],
   "source": [
    "train_data['article_len'] = train_data['article'].apply(lambda x: len(x))\n",
    "train_data['word_seg_len'] = train_data['word_seg'].apply(lambda x: len(x))\n",
    "\n",
    "test_data['article_len'] = test_data['article'].apply(lambda x: len(x))\n",
    "test_data['word_seg_len'] = test_data['word_seg'].apply(lambda x: len(x))"
   ]
  },
  {
   "cell_type": "code",
   "execution_count": 9,
   "metadata": {},
   "outputs": [
    {
     "data": {
      "text/html": [
       "<div>\n",
       "<style scoped>\n",
       "    .dataframe tbody tr th:only-of-type {\n",
       "        vertical-align: middle;\n",
       "    }\n",
       "\n",
       "    .dataframe tbody tr th {\n",
       "        vertical-align: top;\n",
       "    }\n",
       "\n",
       "    .dataframe thead th {\n",
       "        text-align: right;\n",
       "    }\n",
       "</style>\n",
       "<table border=\"1\" class=\"dataframe\">\n",
       "  <thead>\n",
       "    <tr style=\"text-align: right;\">\n",
       "      <th></th>\n",
       "      <th>article</th>\n",
       "      <th>word_seg</th>\n",
       "      <th>class</th>\n",
       "      <th>article_len</th>\n",
       "      <th>word_seg_len</th>\n",
       "    </tr>\n",
       "  </thead>\n",
       "  <tbody>\n",
       "    <tr>\n",
       "      <th>0</th>\n",
       "      <td>[7368, 1252069, 365865, 755561, 1044285, 12953...</td>\n",
       "      <td>[816903, 597526, 520477, 1179558, 1033823, 758...</td>\n",
       "      <td>14</td>\n",
       "      <td>1047</td>\n",
       "      <td>627</td>\n",
       "    </tr>\n",
       "    <tr>\n",
       "      <th>1</th>\n",
       "      <td>[581131, 165432, 7368, 957317, 1197553, 570900...</td>\n",
       "      <td>[90540, 816903, 441039, 816903, 569138, 816903...</td>\n",
       "      <td>3</td>\n",
       "      <td>4785</td>\n",
       "      <td>3062</td>\n",
       "    </tr>\n",
       "    <tr>\n",
       "      <th>2</th>\n",
       "      <td>[7368, 87936, 40494, 490286, 856005, 641588, 1...</td>\n",
       "      <td>[816903, 1012629, 957974, 1033823, 328210, 947...</td>\n",
       "      <td>12</td>\n",
       "      <td>2407</td>\n",
       "      <td>1588</td>\n",
       "    </tr>\n",
       "    <tr>\n",
       "      <th>3</th>\n",
       "      <td>[299237, 760651, 299237, 887082, 159592, 55663...</td>\n",
       "      <td>[563568, 1239563, 680125, 780219, 782805, 1033...</td>\n",
       "      <td>13</td>\n",
       "      <td>812</td>\n",
       "      <td>467</td>\n",
       "    </tr>\n",
       "    <tr>\n",
       "      <th>4</th>\n",
       "      <td>[7368, 7368, 7368, 865510, 7368, 396966, 99524...</td>\n",
       "      <td>[816903, 816903, 816903, 139132, 816903, 31232...</td>\n",
       "      <td>12</td>\n",
       "      <td>1974</td>\n",
       "      <td>1297</td>\n",
       "    </tr>\n",
       "  </tbody>\n",
       "</table>\n",
       "</div>"
      ],
      "text/plain": [
       "                                             article  \\\n",
       "0  [7368, 1252069, 365865, 755561, 1044285, 12953...   \n",
       "1  [581131, 165432, 7368, 957317, 1197553, 570900...   \n",
       "2  [7368, 87936, 40494, 490286, 856005, 641588, 1...   \n",
       "3  [299237, 760651, 299237, 887082, 159592, 55663...   \n",
       "4  [7368, 7368, 7368, 865510, 7368, 396966, 99524...   \n",
       "\n",
       "                                            word_seg  class  article_len  \\\n",
       "0  [816903, 597526, 520477, 1179558, 1033823, 758...     14         1047   \n",
       "1  [90540, 816903, 441039, 816903, 569138, 816903...      3         4785   \n",
       "2  [816903, 1012629, 957974, 1033823, 328210, 947...     12         2407   \n",
       "3  [563568, 1239563, 680125, 780219, 782805, 1033...     13          812   \n",
       "4  [816903, 816903, 816903, 139132, 816903, 31232...     12         1974   \n",
       "\n",
       "   word_seg_len  \n",
       "0           627  \n",
       "1          3062  \n",
       "2          1588  \n",
       "3           467  \n",
       "4          1297  "
      ]
     },
     "execution_count": 9,
     "metadata": {},
     "output_type": "execute_result"
    }
   ],
   "source": [
    "train_data.head()"
   ]
  },
  {
   "cell_type": "code",
   "execution_count": 10,
   "metadata": {},
   "outputs": [
    {
     "data": {
      "text/html": [
       "<div>\n",
       "<style scoped>\n",
       "    .dataframe tbody tr th:only-of-type {\n",
       "        vertical-align: middle;\n",
       "    }\n",
       "\n",
       "    .dataframe tbody tr th {\n",
       "        vertical-align: top;\n",
       "    }\n",
       "\n",
       "    .dataframe thead th {\n",
       "        text-align: right;\n",
       "    }\n",
       "</style>\n",
       "<table border=\"1\" class=\"dataframe\">\n",
       "  <thead>\n",
       "    <tr style=\"text-align: right;\">\n",
       "      <th></th>\n",
       "      <th>article</th>\n",
       "      <th>word_seg</th>\n",
       "      <th>article_len</th>\n",
       "      <th>word_seg_len</th>\n",
       "    </tr>\n",
       "  </thead>\n",
       "  <tbody>\n",
       "    <tr>\n",
       "      <th>0</th>\n",
       "      <td>[7368, 146447, 316564, 42610, 55736, 297797, 9...</td>\n",
       "      <td>[816903, 565958, 726082, 764656, 335008, 75094...</td>\n",
       "      <td>771</td>\n",
       "      <td>478</td>\n",
       "    </tr>\n",
       "    <tr>\n",
       "      <th>1</th>\n",
       "      <td>[985531, 473628, 1044285, 1121849, 206763, 462...</td>\n",
       "      <td>[729468, 520477, 529032, 101368, 335130, 52047...</td>\n",
       "      <td>578</td>\n",
       "      <td>350</td>\n",
       "    </tr>\n",
       "    <tr>\n",
       "      <th>2</th>\n",
       "      <td>[7368, 7368, 7368, 7368, 7368, 7368, 7368, 736...</td>\n",
       "      <td>[816903, 816903, 816903, 816903, 816903, 81690...</td>\n",
       "      <td>86</td>\n",
       "      <td>59</td>\n",
       "    </tr>\n",
       "    <tr>\n",
       "      <th>3</th>\n",
       "      <td>[529819, 1226459, 856005, 1177293, 663773, 272...</td>\n",
       "      <td>[231664, 1033823, 524850, 330478, 507199, 5204...</td>\n",
       "      <td>879</td>\n",
       "      <td>528</td>\n",
       "    </tr>\n",
       "    <tr>\n",
       "      <th>4</th>\n",
       "      <td>[42610, 1252069, 1077049, 955883, 1125260, 104...</td>\n",
       "      <td>[545370, 379223, 162767, 520477, 1194630, 1197...</td>\n",
       "      <td>2515</td>\n",
       "      <td>1603</td>\n",
       "    </tr>\n",
       "  </tbody>\n",
       "</table>\n",
       "</div>"
      ],
      "text/plain": [
       "                                             article  \\\n",
       "0  [7368, 146447, 316564, 42610, 55736, 297797, 9...   \n",
       "1  [985531, 473628, 1044285, 1121849, 206763, 462...   \n",
       "2  [7368, 7368, 7368, 7368, 7368, 7368, 7368, 736...   \n",
       "3  [529819, 1226459, 856005, 1177293, 663773, 272...   \n",
       "4  [42610, 1252069, 1077049, 955883, 1125260, 104...   \n",
       "\n",
       "                                            word_seg  article_len  \\\n",
       "0  [816903, 565958, 726082, 764656, 335008, 75094...          771   \n",
       "1  [729468, 520477, 529032, 101368, 335130, 52047...          578   \n",
       "2  [816903, 816903, 816903, 816903, 816903, 81690...           86   \n",
       "3  [231664, 1033823, 524850, 330478, 507199, 5204...          879   \n",
       "4  [545370, 379223, 162767, 520477, 1194630, 1197...         2515   \n",
       "\n",
       "   word_seg_len  \n",
       "0           478  \n",
       "1           350  \n",
       "2            59  \n",
       "3           528  \n",
       "4          1603  "
      ]
     },
     "execution_count": 10,
     "metadata": {},
     "output_type": "execute_result"
    }
   ],
   "source": [
    "test_data.head()"
   ]
  },
  {
   "cell_type": "code",
   "execution_count": 11,
   "metadata": {},
   "outputs": [
    {
     "data": {
      "text/plain": [
       "count    102277.000000\n",
       "mean       1177.100159\n",
       "std        1348.431565\n",
       "min          50.000000\n",
       "25%         497.000000\n",
       "50%         842.000000\n",
       "75%        1408.000000\n",
       "80%        1618.000000\n",
       "85%        1899.000000\n",
       "90%        2346.000000\n",
       "95%        3201.000000\n",
       "98%        4720.960000\n",
       "max       55804.000000\n",
       "Name: article_len, dtype: float64"
      ]
     },
     "execution_count": 11,
     "metadata": {},
     "output_type": "execute_result"
    }
   ],
   "source": [
    "train_data['article_len'].describe(percentiles=[.25, .5, .75, .8, .85, .9, .95, .98])"
   ]
  },
  {
   "cell_type": "code",
   "execution_count": 12,
   "metadata": {},
   "outputs": [
    {
     "data": {
      "text/plain": [
       "count    102277.000000\n",
       "mean        716.954604\n",
       "std         801.804540\n",
       "min           6.000000\n",
       "25%         305.000000\n",
       "50%         514.000000\n",
       "75%         862.000000\n",
       "80%         990.000000\n",
       "85%        1161.000000\n",
       "90%        1428.000000\n",
       "95%        1949.000000\n",
       "98%        2858.480000\n",
       "max       39759.000000\n",
       "Name: word_seg_len, dtype: float64"
      ]
     },
     "execution_count": 12,
     "metadata": {},
     "output_type": "execute_result"
    }
   ],
   "source": [
    "train_data['word_seg_len'].describe(percentiles=[.25, .5, .75, .8, .85, .9, .95, .98])"
   ]
  },
  {
   "cell_type": "code",
   "execution_count": 13,
   "metadata": {},
   "outputs": [
    {
     "data": {
      "text/plain": [
       "count    102277.000000\n",
       "mean       1177.731865\n",
       "std        1320.447219\n",
       "min          50.000000\n",
       "25%         499.000000\n",
       "50%         842.000000\n",
       "75%        1412.000000\n",
       "80%        1621.000000\n",
       "85%        1907.000000\n",
       "90%        2349.000000\n",
       "95%        3207.000000\n",
       "98%        4672.000000\n",
       "max       31694.000000\n",
       "Name: article_len, dtype: float64"
      ]
     },
     "execution_count": 13,
     "metadata": {},
     "output_type": "execute_result"
    }
   ],
   "source": [
    "test_data['article_len'].describe(percentiles=[.25, .5, .75, .8, .85, .9, .95, .98])"
   ]
  },
  {
   "cell_type": "code",
   "execution_count": 14,
   "metadata": {},
   "outputs": [
    {
     "data": {
      "text/plain": [
       "count    102277.000000\n",
       "mean        718.052152\n",
       "std         792.131628\n",
       "min           6.000000\n",
       "25%         306.000000\n",
       "50%         516.000000\n",
       "75%         863.000000\n",
       "80%         992.000000\n",
       "85%        1162.000000\n",
       "90%        1429.000000\n",
       "95%        1949.000000\n",
       "98%        2826.000000\n",
       "max       19755.000000\n",
       "Name: word_seg_len, dtype: float64"
      ]
     },
     "execution_count": 14,
     "metadata": {},
     "output_type": "execute_result"
    }
   ],
   "source": [
    "test_data['word_seg_len'].describe(percentiles=[.25, .5, .75, .8, .85, .9, .95, .98])\n"
   ]
  },
  {
   "cell_type": "code",
   "execution_count": 15,
   "metadata": {},
   "outputs": [
    {
     "data": {
      "text/plain": [
       "class\n",
       "1     5375\n",
       "2     2901\n",
       "3     8313\n",
       "4     3824\n",
       "5     2369\n",
       "6     6888\n",
       "7     3038\n",
       "8     6972\n",
       "9     7675\n",
       "10    4963\n",
       "11    3571\n",
       "12    5326\n",
       "13    7907\n",
       "14    6740\n",
       "15    7511\n",
       "16    3220\n",
       "17    3094\n",
       "18    7066\n",
       "19    5524\n",
       "dtype: int64"
      ]
     },
     "execution_count": 15,
     "metadata": {},
     "output_type": "execute_result"
    }
   ],
   "source": [
    "train_data.groupby('class').size()"
   ]
  },
  {
   "cell_type": "code",
   "execution_count": 17,
   "metadata": {},
   "outputs": [],
   "source": [
    "article_dic = {}\n",
    "article_list = train_data['article'].append(test_data['article'])"
   ]
  },
  {
   "cell_type": "code",
   "execution_count": 18,
   "metadata": {},
   "outputs": [],
   "source": [
    "for article in article_list:\n",
    "    for index in article:\n",
    "        if index in article_dic:\n",
    "            article_dic[index] += 1\n",
    "        else:\n",
    "            article_dic[index] = 1    "
   ]
  },
  {
   "cell_type": "markdown",
   "metadata": {},
   "source": [
    "# 总字数"
   ]
  },
  {
   "cell_type": "code",
   "execution_count": 19,
   "metadata": {},
   "outputs": [
    {
     "name": "stdout",
     "output_type": "stream",
     "text": [
      "16052\n"
     ]
    }
   ],
   "source": [
    "print(len(article_dic))"
   ]
  },
  {
   "cell_type": "code",
   "execution_count": 20,
   "metadata": {},
   "outputs": [],
   "source": [
    "word_seg_dic = {}\n",
    "word_list = train_data['word_seg'].append(test_data['word_seg'])\n",
    "for word_seg in word_list:\n",
    "    for index in word_seg:\n",
    "        if index in word_seg_dic:\n",
    "            word_seg_dic[index] += 1\n",
    "        else:\n",
    "            word_seg_dic[index] = 1"
   ]
  },
  {
   "cell_type": "markdown",
   "metadata": {},
   "source": [
    "# 总词数"
   ]
  },
  {
   "cell_type": "code",
   "execution_count": 21,
   "metadata": {},
   "outputs": [
    {
     "name": "stdout",
     "output_type": "stream",
     "text": [
      "1271460\n"
     ]
    }
   ],
   "source": [
    "print(len(word_seg_dic))"
   ]
  },
  {
   "cell_type": "code",
   "execution_count": 22,
   "metadata": {},
   "outputs": [
    {
     "name": "stdout",
     "output_type": "stream",
     "text": [
      "('520477', 10592277)\n"
     ]
    }
   ],
   "source": [
    "def sort_dic(dic):\n",
    "    return sorted(dic.items(),key = lambda x:x[1],reverse = True)\n",
    "\n",
    "article_dic_sorted = sort_dic(article_dic)\n",
    "word_seg_dic_sorted = sort_dic(word_seg_dic)\n",
    "print(word_seg_dic_sorted[0])"
   ]
  },
  {
   "cell_type": "code",
   "execution_count": 23,
   "metadata": {},
   "outputs": [],
   "source": [
    "# 将词典项变成2个变换词典\n",
    "# article_word2id = {}\n",
    "# article_id2word = {}\n",
    "\n",
    "# word_seg_word2id = {}\n",
    "# word_seg_id2word = {}\n",
    "\n",
    "def generate_dic(dic_list):\n",
    "    word2id = {}\n",
    "    id2word = {}\n",
    "    for i, item in enumerate(dic_list):\n",
    "        word2id[item[0]] = i + 1\n",
    "        id2word[i+1] = item[0]\n",
    "    return word2id, id2word\n",
    "\n",
    "article_word2id, article_id2word = generate_dic(article_dic_sorted)\n",
    "word_seg_word2id, word_seg_id2word = generate_dic(word_seg_dic_sorted)"
   ]
  },
  {
   "cell_type": "code",
   "execution_count": 24,
   "metadata": {},
   "outputs": [
    {
     "data": {
      "text/html": [
       "<div>\n",
       "<style scoped>\n",
       "    .dataframe tbody tr th:only-of-type {\n",
       "        vertical-align: middle;\n",
       "    }\n",
       "\n",
       "    .dataframe tbody tr th {\n",
       "        vertical-align: top;\n",
       "    }\n",
       "\n",
       "    .dataframe thead th {\n",
       "        text-align: right;\n",
       "    }\n",
       "</style>\n",
       "<table border=\"1\" class=\"dataframe\">\n",
       "  <thead>\n",
       "    <tr style=\"text-align: right;\">\n",
       "      <th></th>\n",
       "      <th>article</th>\n",
       "      <th>word_seg</th>\n",
       "      <th>class</th>\n",
       "      <th>article_len</th>\n",
       "      <th>word_seg_len</th>\n",
       "    </tr>\n",
       "  </thead>\n",
       "  <tbody>\n",
       "    <tr>\n",
       "      <th>0</th>\n",
       "      <td>[2, 373, 34, 26, 1, 244, 169, 3, 208, 449, 383...</td>\n",
       "      <td>[2, 2057, 1, 8019, 3, 2008, 502, 22, 1, 163, 3...</td>\n",
       "      <td>14</td>\n",
       "      <td>1047</td>\n",
       "      <td>627</td>\n",
       "    </tr>\n",
       "    <tr>\n",
       "      <th>1</th>\n",
       "      <td>[13, 99, 2, 381, 295, 711, 545, 2, 819, 597, 1...</td>\n",
       "      <td>[2908, 2, 38268, 2, 158436, 2, 80259, 10342, 2...</td>\n",
       "      <td>3</td>\n",
       "      <td>4785</td>\n",
       "      <td>3062</td>\n",
       "    </tr>\n",
       "    <tr>\n",
       "      <th>2</th>\n",
       "      <td>[2, 353, 677, 309, 3, 44, 35, 878, 1078, 5, 57...</td>\n",
       "      <td>[2, 550, 452, 3, 15453, 290, 167, 21, 11272, 3...</td>\n",
       "      <td>12</td>\n",
       "      <td>2407</td>\n",
       "      <td>1588</td>\n",
       "    </tr>\n",
       "    <tr>\n",
       "      <th>3</th>\n",
       "      <td>[141, 23, 141, 106, 42, 77, 1398, 2197, 8, 225...</td>\n",
       "      <td>[261, 5995, 168, 19357, 5943, 3, 850, 12, 4145...</td>\n",
       "      <td>13</td>\n",
       "      <td>812</td>\n",
       "      <td>467</td>\n",
       "    </tr>\n",
       "    <tr>\n",
       "      <th>4</th>\n",
       "      <td>[2, 2, 2, 1497, 2, 2797, 307, 660, 966, 30, 43...</td>\n",
       "      <td>[2, 2, 2, 811, 2, 10790, 23136, 10, 20699, 11,...</td>\n",
       "      <td>12</td>\n",
       "      <td>1974</td>\n",
       "      <td>1297</td>\n",
       "    </tr>\n",
       "  </tbody>\n",
       "</table>\n",
       "</div>"
      ],
      "text/plain": [
       "                                             article  \\\n",
       "0  [2, 373, 34, 26, 1, 244, 169, 3, 208, 449, 383...   \n",
       "1  [13, 99, 2, 381, 295, 711, 545, 2, 819, 597, 1...   \n",
       "2  [2, 353, 677, 309, 3, 44, 35, 878, 1078, 5, 57...   \n",
       "3  [141, 23, 141, 106, 42, 77, 1398, 2197, 8, 225...   \n",
       "4  [2, 2, 2, 1497, 2, 2797, 307, 660, 966, 30, 43...   \n",
       "\n",
       "                                            word_seg  class  article_len  \\\n",
       "0  [2, 2057, 1, 8019, 3, 2008, 502, 22, 1, 163, 3...     14         1047   \n",
       "1  [2908, 2, 38268, 2, 158436, 2, 80259, 10342, 2...      3         4785   \n",
       "2  [2, 550, 452, 3, 15453, 290, 167, 21, 11272, 3...     12         2407   \n",
       "3  [261, 5995, 168, 19357, 5943, 3, 850, 12, 4145...     13          812   \n",
       "4  [2, 2, 2, 811, 2, 10790, 23136, 10, 20699, 11,...     12         1974   \n",
       "\n",
       "   word_seg_len  \n",
       "0           627  \n",
       "1          3062  \n",
       "2          1588  \n",
       "3           467  \n",
       "4          1297  "
      ]
     },
     "execution_count": 24,
     "metadata": {},
     "output_type": "execute_result"
    }
   ],
   "source": [
    "import pickle as pkl\n",
    "\n",
    "def exchange(li, word2id):\n",
    "    return [word2id[x] for x in li]\n",
    "\n",
    "train_data['article'] = train_data['article'].apply(exchange, args=(article_word2id,))\n",
    "train_data['word_seg'] = train_data['word_seg'].apply(exchange, args=(word_seg_word2id,))\n",
    "\n",
    "test_data['article'] = test_data['article'].apply(exchange, args=(article_word2id,))\n",
    "test_data['word_seg'] = test_data['word_seg'].apply(exchange, args=(word_seg_word2id,))\n",
    "train_data.head()\n",
    "\n",
    "# with open('dictionary.pkl', 'wb') as fw_d, open('data_all.pkl', 'wb') as fw_data:\n",
    "#     pkl.dump(fw_d, {'article': [article_word2id, article_id2word],\n",
    "#                     'word_seg': [word_seg_word2id, word_seg_id2word]})\n",
    "#     pkl.dump(fw_data, new_data)"
   ]
  },
  {
   "cell_type": "code",
   "execution_count": 25,
   "metadata": {},
   "outputs": [
    {
     "data": {
      "text/html": [
       "<div>\n",
       "<style scoped>\n",
       "    .dataframe tbody tr th:only-of-type {\n",
       "        vertical-align: middle;\n",
       "    }\n",
       "\n",
       "    .dataframe tbody tr th {\n",
       "        vertical-align: top;\n",
       "    }\n",
       "\n",
       "    .dataframe thead th {\n",
       "        text-align: right;\n",
       "    }\n",
       "</style>\n",
       "<table border=\"1\" class=\"dataframe\">\n",
       "  <thead>\n",
       "    <tr style=\"text-align: right;\">\n",
       "      <th></th>\n",
       "      <th>article</th>\n",
       "      <th>word_seg</th>\n",
       "      <th>article_len</th>\n",
       "      <th>word_seg_len</th>\n",
       "    </tr>\n",
       "  </thead>\n",
       "  <tbody>\n",
       "    <tr>\n",
       "      <th>0</th>\n",
       "      <td>[2, 509, 9, 84, 418, 454, 623, 239, 152, 626, ...</td>\n",
       "      <td>[2, 650, 95, 162, 591, 1690, 1143, 1, 175, 7, ...</td>\n",
       "      <td>771</td>\n",
       "      <td>478</td>\n",
       "    </tr>\n",
       "    <tr>\n",
       "      <th>1</th>\n",
       "      <td>[482, 93, 1, 39, 43, 347, 376, 294, 308, 1, 20...</td>\n",
       "      <td>[957, 1, 199, 3794, 1629, 1, 11620, 11004, 362...</td>\n",
       "      <td>578</td>\n",
       "      <td>350</td>\n",
       "    </tr>\n",
       "    <tr>\n",
       "      <th>2</th>\n",
       "      <td>[2, 2, 2, 2, 2, 2, 2, 2, 2, 2, 2, 524, 859, 16...</td>\n",
       "      <td>[2, 2, 2, 2, 2, 2, 2, 2, 2, 2, 2, 1372, 18080,...</td>\n",
       "      <td>86</td>\n",
       "      <td>59</td>\n",
       "    </tr>\n",
       "    <tr>\n",
       "      <th>3</th>\n",
       "      <td>[1281, 1128, 3, 195, 375, 182, 315, 487, 376, ...</td>\n",
       "      <td>[85697, 3, 11755, 2429, 39357, 1, 1930, 90, 11...</td>\n",
       "      <td>879</td>\n",
       "      <td>528</td>\n",
       "    </tr>\n",
       "    <tr>\n",
       "      <th>4</th>\n",
       "      <td>[84, 373, 10, 188, 1320, 1, 270, 68, 25, 99, 5...</td>\n",
       "      <td>[679, 370, 2350, 1, 376, 966, 472, 16, 1355, 1...</td>\n",
       "      <td>2515</td>\n",
       "      <td>1603</td>\n",
       "    </tr>\n",
       "  </tbody>\n",
       "</table>\n",
       "</div>"
      ],
      "text/plain": [
       "                                             article  \\\n",
       "0  [2, 509, 9, 84, 418, 454, 623, 239, 152, 626, ...   \n",
       "1  [482, 93, 1, 39, 43, 347, 376, 294, 308, 1, 20...   \n",
       "2  [2, 2, 2, 2, 2, 2, 2, 2, 2, 2, 2, 524, 859, 16...   \n",
       "3  [1281, 1128, 3, 195, 375, 182, 315, 487, 376, ...   \n",
       "4  [84, 373, 10, 188, 1320, 1, 270, 68, 25, 99, 5...   \n",
       "\n",
       "                                            word_seg  article_len  \\\n",
       "0  [2, 650, 95, 162, 591, 1690, 1143, 1, 175, 7, ...          771   \n",
       "1  [957, 1, 199, 3794, 1629, 1, 11620, 11004, 362...          578   \n",
       "2  [2, 2, 2, 2, 2, 2, 2, 2, 2, 2, 2, 1372, 18080,...           86   \n",
       "3  [85697, 3, 11755, 2429, 39357, 1, 1930, 90, 11...          879   \n",
       "4  [679, 370, 2350, 1, 376, 966, 472, 16, 1355, 1...         2515   \n",
       "\n",
       "   word_seg_len  \n",
       "0           478  \n",
       "1           350  \n",
       "2            59  \n",
       "3           528  \n",
       "4          1603  "
      ]
     },
     "execution_count": 25,
     "metadata": {},
     "output_type": "execute_result"
    }
   ],
   "source": [
    "test_data.head()"
   ]
  },
  {
   "cell_type": "code",
   "execution_count": 26,
   "metadata": {},
   "outputs": [],
   "source": [
    "with open('dictionary.pkl', 'wb') as fw_d, open('data_train.pkl', 'wb') as fw_train, open('data_test.pkl', 'wb') as fw_test:\n",
    "    pkl.dump({'article': [article_word2id, article_id2word], \n",
    "              'word_seg': [word_seg_word2id, word_seg_id2word]}, fw_d)\n",
    "    pkl.dump(train_data, fw_train)\n",
    "    pkl.dump(test_data, fw_test)"
   ]
  },
  {
   "cell_type": "code",
   "execution_count": null,
   "metadata": {},
   "outputs": [],
   "source": []
  }
 ],
 "metadata": {
  "kernelspec": {
   "display_name": "Python 3",
   "language": "python",
   "name": "python3"
  },
  "language_info": {
   "codemirror_mode": {
    "name": "ipython",
    "version": 3
   },
   "file_extension": ".py",
   "mimetype": "text/x-python",
   "name": "python",
   "nbconvert_exporter": "python",
   "pygments_lexer": "ipython3",
   "version": "3.6.4"
  }
 },
 "nbformat": 4,
 "nbformat_minor": 2
}
